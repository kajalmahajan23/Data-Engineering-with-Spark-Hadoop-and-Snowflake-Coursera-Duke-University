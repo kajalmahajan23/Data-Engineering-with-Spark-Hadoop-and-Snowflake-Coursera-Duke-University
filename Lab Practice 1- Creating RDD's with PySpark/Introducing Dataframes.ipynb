{
 "cells": [
  {
   "cell_type": "markdown",
   "metadata": {
    "application/vnd.databricks.v1+cell": {
     "cellMetadata": {},
     "inputWidgets": {},
     "nuid": "5227bffb-45d0-4c10-bf00-5284ebbc9421",
     "showTitle": false,
     "title": ""
    }
   },
   "source": [
    "# PySpark Dataframes\n",
    "For each instruction, type the appropriate code into the cell below the instruction. Then, run the code by pressing the `Run` button above.\n",
    "\n",
    "1. Import the SparkSession class:\n",
    "\n",
    "```\n",
    "from pyspark.sql import SparkSession\n",
    "```"
   ]
  },
  {
   "cell_type": "code",
   "execution_count": 0,
   "metadata": {
    "application/vnd.databricks.v1+cell": {
     "cellMetadata": {
      "byteLimit": 2048000,
      "rowLimit": 10000
     },
     "inputWidgets": {},
     "nuid": "1b08bc49-a6b0-412f-b1be-e95872628d8a",
     "showTitle": false,
     "title": ""
    }
   },
   "outputs": [],
   "source": [
    "from pyspark.sql import SparkSession"
   ]
  },
  {
   "cell_type": "code",
   "execution_count": 0,
   "metadata": {
    "application/vnd.databricks.v1+cell": {
     "cellMetadata": {
      "byteLimit": 2048000,
      "rowLimit": 10000
     },
     "inputWidgets": {},
     "nuid": "926172aa-bf16-47e7-a1a1-02d5e2472377",
     "showTitle": false,
     "title": ""
    }
   },
   "outputs": [],
   "source": [
    "spark = SparkSession \\\n",
    "    .builder \\\n",
    "    .appName(\" Intro to dataframes\") \\\n",
    "    .getOrCreate()\n",
    "    "
   ]
  },
  {
   "cell_type": "code",
   "execution_count": 0,
   "metadata": {
    "application/vnd.databricks.v1+cell": {
     "cellMetadata": {
      "byteLimit": 2048000,
      "rowLimit": 10000
     },
     "inputWidgets": {},
     "nuid": "ce05c6f4-6f4e-484e-a8cf-e649f79351e3",
     "showTitle": false,
     "title": ""
    }
   },
   "outputs": [
    {
     "output_type": "display_data",
     "data": {
      "text/html": [
       "\n",
       "            <div>\n",
       "                <p><b>SparkSession - hive</b></p>\n",
       "                \n",
       "        <div>\n",
       "            <p><b>SparkContext</b></p>\n",
       "\n",
       "            <p><a href=\"/?o=617214773978825#setting/sparkui/1001-172621-fonq8c0g/driver-6753149971689282115\">Spark UI</a></p>\n",
       "\n",
       "            <dl>\n",
       "              <dt>Version</dt>\n",
       "                <dd><code>v3.3.2</code></dd>\n",
       "              <dt>Master</dt>\n",
       "                <dd><code>local[8]</code></dd>\n",
       "              <dt>AppName</dt>\n",
       "                <dd><code>Databricks Shell</code></dd>\n",
       "            </dl>\n",
       "        </div>\n",
       "        \n",
       "            </div>\n",
       "        "
      ]
     },
     "metadata": {
      "application/vnd.databricks.v1+output": {
       "addedWidgets": {},
       "arguments": {},
       "data": "\n            <div>\n                <p><b>SparkSession - hive</b></p>\n                \n        <div>\n            <p><b>SparkContext</b></p>\n\n            <p><a href=\"/?o=617214773978825#setting/sparkui/1001-172621-fonq8c0g/driver-6753149971689282115\">Spark UI</a></p>\n\n            <dl>\n              <dt>Version</dt>\n                <dd><code>v3.3.2</code></dd>\n              <dt>Master</dt>\n                <dd><code>local[8]</code></dd>\n              <dt>AppName</dt>\n                <dd><code>Databricks Shell</code></dd>\n            </dl>\n        </div>\n        \n            </div>\n        ",
       "datasetInfos": [],
       "metadata": {},
       "removedWidgets": [],
       "textData": null,
       "type": "htmlSandbox"
      }
     },
     "output_type": "display_data"
    }
   ],
   "source": [
    "spark"
   ]
  },
  {
   "cell_type": "code",
   "execution_count": 0,
   "metadata": {
    "application/vnd.databricks.v1+cell": {
     "cellMetadata": {
      "byteLimit": 2048000,
      "rowLimit": 10000
     },
     "inputWidgets": {},
     "nuid": "a6d41750-ab2a-493b-9d5a-aeb561b65e2d",
     "showTitle": false,
     "title": ""
    }
   },
   "outputs": [],
   "source": [
    "accounts= spark.read.option('header','true').csv('/FileStore/tables/accounts-2.csv') #Read the contents of a csv file into a Dataframe named 'accounts':"
   ]
  },
  {
   "cell_type": "code",
   "execution_count": 0,
   "metadata": {
    "application/vnd.databricks.v1+cell": {
     "cellMetadata": {
      "byteLimit": 2048000,
      "rowLimit": 10000
     },
     "inputWidgets": {},
     "nuid": "f8db7eb7-afd6-41d3-93aa-fdc47046c9af",
     "showTitle": false,
     "title": ""
    }
   },
   "outputs": [
    {
     "output_type": "stream",
     "name": "stdout",
     "output_type": "stream",
     "text": [
      "root\n |-- account_number: string (nullable = true)\n |-- aba: string (nullable = true)\n |-- bic: string (nullable = true)\n |-- opened: string (nullable = true)\n |-- balance: string (nullable = true)\n\n"
     ]
    }
   ],
   "source": [
    "accounts.printSchema()"
   ]
  },
  {
   "cell_type": "code",
   "execution_count": 0,
   "metadata": {
    "application/vnd.databricks.v1+cell": {
     "cellMetadata": {
      "byteLimit": 2048000,
      "rowLimit": 10000
     },
     "inputWidgets": {},
     "nuid": "80dbb54e-d7e7-4dc6-92e8-ddfe668a8411",
     "showTitle": false,
     "title": ""
    }
   },
   "outputs": [],
   "source": [
    "transcations = spark.read.option('header','true').parquet('/FileStore/tables/transactions.parquet') #Read the contents of a parquet file into a variable"
   ]
  },
  {
   "cell_type": "code",
   "execution_count": 0,
   "metadata": {
    "application/vnd.databricks.v1+cell": {
     "cellMetadata": {
      "byteLimit": 2048000,
      "rowLimit": 10000
     },
     "inputWidgets": {},
     "nuid": "c3b001ea-8244-4073-8cf3-0a24d7e3c176",
     "showTitle": false,
     "title": ""
    }
   },
   "outputs": [
    {
     "output_type": "stream",
     "name": "stdout",
     "output_type": "stream",
     "text": [
      "root\n |-- account_number: string (nullable = true)\n |-- amount: long (nullable = true)\n |-- datetime: date (nullable = true)\n\nOut[7]: 1000000"
     ]
    }
   ],
   "source": [
    "transcations.printSchema() \n",
    "transcations.count()"
   ]
  },
  {
   "cell_type": "code",
   "execution_count": 0,
   "metadata": {
    "application/vnd.databricks.v1+cell": {
     "cellMetadata": {
      "byteLimit": 2048000,
      "rowLimit": 10000
     },
     "inputWidgets": {},
     "nuid": "3bbe934c-78bb-45cd-b527-d310e351eb78",
     "showTitle": false,
     "title": ""
    }
   },
   "outputs": [
    {
     "output_type": "stream",
     "name": "stdout",
     "output_type": "stream",
     "text": [
      "Out[8]: [Row(account_number='FBXK78425844480007', sum(amount)=-99434),\n Row(account_number='XJIU55438863095422', sum(amount)=77947),\n Row(account_number='XBYT37304125118047', sum(amount)=65101),\n Row(account_number='UQSE17000937342665', sum(amount)=118473),\n Row(account_number='KWOU43650129218895', sum(amount)=-35411)]"
     ]
    }
   ],
   "source": [
    "#Make a new Dataframe by grouping the transactions by account number and summing the groups. This will combine the transactions per account:\n",
    "acc_trans = transcations.groupby('account_number').sum()\n",
    "acc_trans.head(5)"
   ]
  },
  {
   "cell_type": "code",
   "execution_count": 0,
   "metadata": {
    "application/vnd.databricks.v1+cell": {
     "cellMetadata": {
      "byteLimit": 2048000,
      "rowLimit": 10000
     },
     "inputWidgets": {},
     "nuid": "5a7fbcc1-3767-424c-96d5-b49e95b26d96",
     "showTitle": false,
     "title": ""
    }
   },
   "outputs": [
    {
     "output_type": "stream",
     "name": "stdout",
     "output_type": "stream",
     "text": [
      "+------------------+---------+-----------+----------+-------+-----------+\n|    account_number|      aba|        bic|    opened|balance|sum(amount)|\n+------------------+---------+-----------+----------+-------+-----------+\n|FBXK78425844480007|125056531|   TFJQGB5D|2014-05-07| 710027|     -99434|\n|XJIU55438863095422|036174230|   KILTGB3K|2009-12-18| 339452|      77947|\n|XBYT37304125118047|061333512|UVXHGB0SHJC|2013-12-21| 948840|      65101|\n|UQSE17000937342665|028459374|JBPYGB7X207|2009-07-30| 928422|     118473|\n|KWOU43650129218895|038163281|   PHLOGB1V|2016-06-14|1119190|     -35411|\n|FNUS11547939884469|048504775|   KVXDGBQT|2001-06-23| 911119|     -61117|\n|RWKR28406701224417|085114102|   INMGGB96|2013-10-13|1291803|      12973|\n|NPLS84562938853238|125331256|   IHEAGB8O|2015-05-21| 933824|     -93579|\n|FZHT89141815092168|018700127|NAIYGBBS2HS|2018-02-16|1926118|     -26762|\n|KNLA77840498184902|093772264|   SFLUGBG7|2020-06-19|1291060|      46427|\n|WLIZ87856094022198|050590353|   JAMLGBQ1|2005-01-25| 666328|      18051|\n|LRMZ23738220756286|014019744|BEEKGBRQS4F|2018-03-22| 401976|      98978|\n|NIMK12085499565283|046252980|CEDQGBYK4YD|2019-03-02| 839972|      22460|\n|QWXU59413683265748|101802330|   RCWVGB1F|2012-06-24|1318902|      -2168|\n|SZVC23589681901818|110473776|FZDHGBC8UKN|2015-07-23|1228205|     -28596|\n|ZKEL14029875813282|041711086|BPTDGBXT4U5|2018-07-28| 840026|     -54095|\n|NZKN92898922002082|071728007|CGBVGBR4P6A|2005-12-22|  29992|     -10294|\n|AOJW11557106103711|033852827|HEHNGBEY19G|2005-11-10| 202794|      24147|\n|NEVR06421870232002|105957647|GFLNGB1XQH4|2013-09-01|1970104|     -51660|\n|CMMO83402130714032|109474948|   KQCSGBN8|2003-08-07|1672931|      16655|\n+------------------+---------+-----------+----------+-------+-----------+\nonly showing top 20 rows\n\n"
     ]
    }
   ],
   "source": [
    "#Combine the accounts with the summed transaction values:\n",
    "with_sum = accounts.join(acc_trans,'account_number','inner')\n",
    "with_sum.show()"
   ]
  }
 ],
 "metadata": {
  "application/vnd.databricks.v1+notebook": {
   "dashboards": [],
   "environmentMetadata": null,
   "language": "python",
   "notebookMetadata": {
    "pythonIndentUnit": 4
   },
   "notebookName": "Introducing Dataframes",
   "widgets": {}
  },
  "kernelspec": {
   "display_name": "Python 3",
   "language": "python",
   "name": "python3"
  },
  "language_info": {
   "codemirror_mode": {
    "name": "ipython",
    "version": 3
   },
   "file_extension": ".py",
   "mimetype": "text/x-python",
   "name": "python",
   "nbconvert_exporter": "python",
   "pygments_lexer": "ipython3",
   "version": "3.7.6"
  }
 },
 "nbformat": 4,
 "nbformat_minor": 0
}
